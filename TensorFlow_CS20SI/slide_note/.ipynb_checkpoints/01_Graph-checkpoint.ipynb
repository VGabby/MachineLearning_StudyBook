{
 "cells": [
  {
   "cell_type": "code",
   "execution_count": 1,
   "metadata": {},
   "outputs": [
    {
     "name": "stdout",
     "output_type": "stream",
     "text": [
      "6 10\n"
     ]
    }
   ],
   "source": [
    "import tensorflow as tf\n",
    "\n",
    "#creates nodes in a graph\n",
    "g = tf.Graph() # user created graph ,  tf.get_default_graph() to hande default graph\n",
    "with g.as_default():\n",
    "\tx = 2\n",
    "\ty = 3\n",
    "\tadd_op = tf.add(x,y)\n",
    "\tmul_op = tf.multiply(x,y)\n",
    "\tuseless = tf.multiply(x,add_op)\n",
    "\tpow_op = tf.pow(add_op,mul_op)\n",
    "\n",
    "#define session\n",
    "with tf.Session(graph=g) as sess: # with statement use the session for the following statement then close when done\n",
    "\t# add this line to use TensorBoard.\n",
    "\twriter = tf.summary.FileWriter('./graphs', sess.graph)\n",
    "\t#run result\n",
    "\tz,not_useless = sess.run([mul_op,useless])\n",
    "\tprint z,not_useless\n",
    "\n",
    "#writer.close() # close the writer when you're done using it"
   ]
  },
  {
   "cell_type": "code",
   "execution_count": 3,
   "metadata": {},
   "outputs": [
    {
     "ename": "SyntaxError",
     "evalue": "can't assign to operator (<ipython-input-3-b2bcb93bdc73>, line 1)",
     "output_type": "error",
     "traceback": [
      "\u001b[0;36m  File \u001b[0;32m\"<ipython-input-3-b2bcb93bdc73>\"\u001b[0;36m, line \u001b[0;32m1\u001b[0m\n\u001b[0;31m    tensorboard --logdir='graphs'\u001b[0m\n\u001b[0;31mSyntaxError\u001b[0m\u001b[0;31m:\u001b[0m can't assign to operator\n"
     ]
    }
   ],
   "source": [
    "#tensorboard --logdir='graphs' "
   ]
  },
  {
   "cell_type": "code",
   "execution_count": null,
   "metadata": {},
   "outputs": [],
   "source": []
  }
 ],
 "metadata": {
  "kernelspec": {
   "display_name": "Python 2",
   "language": "python",
   "name": "python2"
  },
  "language_info": {
   "codemirror_mode": {
    "name": "ipython",
    "version": 2
   },
   "file_extension": ".py",
   "mimetype": "text/x-python",
   "name": "python",
   "nbconvert_exporter": "python",
   "pygments_lexer": "ipython2",
   "version": "2.7.12"
  }
 },
 "nbformat": 4,
 "nbformat_minor": 2
}
