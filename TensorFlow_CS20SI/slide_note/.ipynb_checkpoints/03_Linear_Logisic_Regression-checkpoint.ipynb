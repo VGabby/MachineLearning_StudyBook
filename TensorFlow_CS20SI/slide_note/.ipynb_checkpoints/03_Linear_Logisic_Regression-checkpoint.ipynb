{
 "cells": [
  {
   "cell_type": "markdown",
   "metadata": {},
   "source": [
    "# Note3: Linear and Logistic Regression in TensorFlow\n"
   ]
  },
  {
   "cell_type": "code",
   "execution_count": 1,
   "metadata": {},
   "outputs": [],
   "source": [
    "import numpy as np\n",
    "import matplotlib.pyplot as plt\n",
    "import tensorflow as tf\n",
    "import xlrd\n",
    "DATA_FILE = \"../data/fire_theft.xls\""
   ]
  },
  {
   "cell_type": "markdown",
   "metadata": {},
   "source": [
    "Step 1: read in data from the .xls file"
   ]
  },
  {
   "cell_type": "code",
   "execution_count": 2,
   "metadata": {},
   "outputs": [],
   "source": [
    "book = xlrd.open_workbook(DATA_FILE, encoding_override=\"utf-8\")\n",
    "sheet = book.sheet_by_index(0)\n",
    "data = np.asarray([sheet.row_values(i) for i in range(1, sheet.nrows)])\n",
    "n_samples = sheet.nrows - 1"
   ]
  },
  {
   "cell_type": "markdown",
   "metadata": {},
   "source": [
    "Step 2: Place two placeholder one for input X , one for output Y"
   ]
  },
  {
   "cell_type": "code",
   "execution_count": 3,
   "metadata": {},
   "outputs": [],
   "source": [
    "tf.reset_default_graph()\n",
    "X = tf.placeholder(tf.float32, name=\"X\")\n",
    "Y = tf.placeholder(tf.float32, name=\"Y\")"
   ]
  },
  {
   "cell_type": "markdown",
   "metadata": {},
   "source": [
    "Step 3: create weight and bias, initialized to 0"
   ]
  },
  {
   "cell_type": "code",
   "execution_count": 4,
   "metadata": {},
   "outputs": [],
   "source": [
    "w = tf.Variable(0.0,name = \"weights\")\n",
    "b = tf.Variable(0.0,name = \"bias\")"
   ]
  },
  {
   "cell_type": "markdown",
   "metadata": {},
   "source": [
    "Step 4:Contruct predict model from X and Y \n"
   ]
  },
  {
   "cell_type": "code",
   "execution_count": 5,
   "metadata": {},
   "outputs": [],
   "source": [
    "Y_predicted = X * w + b"
   ]
  },
  {
   "cell_type": "markdown",
   "metadata": {},
   "source": [
    "Step 5: use the square error as the loss funcition"
   ]
  },
  {
   "cell_type": "code",
   "execution_count": 6,
   "metadata": {},
   "outputs": [],
   "source": [
    "loss = tf.square(Y - Y_predicted, name=\"loss\")"
   ]
  },
  {
   "cell_type": "markdown",
   "metadata": {},
   "source": [
    "Step 6: using gradient descent with learning rate 0.01 to minimize the loss.\n",
    "<p>Note . Learning rate 0.01 is too big , this will creat NAN , decrease it into 0.001 for better result  </p>"
   ]
  },
  {
   "cell_type": "code",
   "execution_count": 7,
   "metadata": {},
   "outputs": [],
   "source": [
    "optimizer = tf.train.GradientDescentOptimizer(learning_rate=0.001).minimize(loss)"
   ]
  },
  {
   "cell_type": "code",
   "execution_count": 8,
   "metadata": {},
   "outputs": [
    {
     "name": "stdout",
     "output_type": "stream",
     "text": [
      "Epoch 0: loss 2069.6319334\n",
      "Epoch 1: loss 2117.0123582\n",
      "Epoch 2: loss 2092.302723\n",
      "Epoch 3: loss 2068.50804619\n",
      "Epoch 4: loss 2045.59118409\n",
      "Epoch 5: loss 2023.51464481\n",
      "Epoch 6: loss 2002.24476198\n",
      "Epoch 7: loss 1981.7483388\n",
      "Epoch 8: loss 1961.99444113\n",
      "Epoch 9: loss 1942.95201161\n",
      "Epoch 10: loss 1924.59308236\n",
      "Epoch 11: loss 1906.88988006\n",
      "Epoch 12: loss 1889.81645058\n",
      "Epoch 13: loss 1873.34713384\n",
      "Epoch 14: loss 1857.45884006\n",
      "Epoch 15: loss 1842.12787424\n",
      "Epoch 16: loss 1827.33249512\n",
      "Epoch 17: loss 1813.05205797\n",
      "Epoch 18: loss 1799.26608476\n",
      "Epoch 19: loss 1785.95621323\n",
      "Epoch 20: loss 1773.10248531\n",
      "Epoch 21: loss 1760.68912948\n",
      "Epoch 22: loss 1748.69841571\n",
      "Epoch 23: loss 1737.11386804\n",
      "Epoch 24: loss 1725.92087307\n",
      "Epoch 25: loss 1715.10462496\n",
      "Epoch 26: loss 1704.65009543\n",
      "Epoch 27: loss 1694.54471349\n",
      "Epoch 28: loss 1684.77463113\n",
      "Epoch 29: loss 1675.32845097\n",
      "Epoch 30: loss 1666.19353858\n",
      "Epoch 31: loss 1657.35840021\n",
      "Epoch 32: loss 1648.81226585\n",
      "Epoch 33: loss 1640.54407425\n",
      "Epoch 34: loss 1632.54468361\n",
      "Epoch 35: loss 1624.80433151\n",
      "Epoch 36: loss 1617.31268\n",
      "Epoch 37: loss 1610.06225325\n",
      "Epoch 38: loss 1603.04335572\n",
      "Epoch 39: loss 1596.24791761\n",
      "Epoch 40: loss 1589.66805633\n",
      "Epoch 41: loss 1583.29652426\n",
      "Epoch 42: loss 1577.12637129\n",
      "Epoch 43: loss 1571.15011906\n",
      "Epoch 44: loss 1565.36097915\n",
      "Epoch 45: loss 1559.75237808\n",
      "Epoch 46: loss 1554.31843646\n",
      "Epoch 47: loss 1549.05294696\n",
      "Epoch 48: loss 1543.95005999\n",
      "Epoch 49: loss 1539.00502821\n"
     ]
    }
   ],
   "source": [
    "\n",
    "with tf.Session() as sess:\n",
    "    # See your model in tensorboard\n",
    "    writer = tf.summary.FileWriter('./my_graph/03/linear_reg',sess.graph)\n",
    "    #Step7: Initialize the necessary variables: w and b \n",
    "    sess.run(tf.global_variables_initializer())\n",
    "    #Step 8: Train the model\n",
    "    for i in range(10): #run 100 epochs\n",
    "        total_loss = 0\n",
    "        for x,y in data:\n",
    "            #Session runs train_op to minimize loss\n",
    "            _, l = sess.run([optimizer,loss], feed_dict={X:x,Y:y})\n",
    "            total_loss += l\n",
    "        print(\"Epoch {0}: loss {1}\".format(i, total_loss/n_samples))\n",
    "    # Step 9: output the values of w and b\n",
    "    w , b = sess.run([w,b])\n",
    "writer.close()"
   ]
  },
  {
   "cell_type": "code",
   "execution_count": 9,
   "metadata": {},
   "outputs": [
    {
     "data": {
      "image/png": "[encoded data removed]",
      "text/plain": [
       "<matplotlib.figure.Figure at 0x111904350>"
      ]
     },
     "metadata": {},
     "output_type": "display_data"
    }
   ],
   "source": [
    "# plot the results\n",
    "X, Y = data.T[0], data.T[1]\n",
    "plt.plot(X, Y, 'bo', label='Real data')\n",
    "plt.plot(X, X * w + b, 'r', label='Predicted data')\n",
    "plt.legend()\n",
    "plt.show()"
   ]
  },
  {
   "cell_type": "markdown",
   "metadata": {},
   "source": [
    "This doesnot fit well. Let's try with quadratic function\n",
    "Y = wXX + uX +b"
   ]
  },
  {
   "cell_type": "code",
   "execution_count": 32,
   "metadata": {},
   "outputs": [
    {
     "data": {
      "image/png": "[encoded data removed]",
      "text/plain": [
       "<matplotlib.figure.Figure at 0x11be14650>"
      ]
     },
     "metadata": {},
     "output_type": "display_data"
    }
   ],
   "source": [
    "tf.reset_default_graph()\n",
    "X = tf.placeholder(tf.float32, name=\"X\")\n",
    "Y = tf.placeholder(tf.float32, name=\"Y\")\n",
    "w = tf.Variable(0.0,name = \"weights_1\")\n",
    "u = tf.Variable(0.0,name = \"weights_2\")\n",
    "b = tf.Variable(0.0,name = \"bias\")\n",
    "Y_predicted = X * X * w + X * u + b\n",
    "loss = tf.square(Y - Y_predicted, name=\"loss\")\n",
    "loss = tf.Print(loss,[loss],message=\"Value of loss is:\")\n",
    "optimizer = tf.train.GradientDescentOptimizer(learning_rate=0.000001).minimize(loss)\n",
    "\n",
    "with tf.Session() as sess:\n",
    "    # See your model in tensorboard\n",
    "    writer = tf.summary.FileWriter('./my_graph/03/linear_reg',sess.graph)\n",
    "    #Step7: Initialize the necessary variables: w and b \n",
    "    sess.run(tf.global_variables_initializer())\n",
    "    #Step 8: Train the model\n",
    "    for i in range(10): #run 10 epochs\n",
    "        total_loss = 0\n",
    "        for x,y in data:\n",
    "            #Session runs train_op to minimize loss\n",
    "            _, l = sess.run([optimizer,loss], feed_dict={X:x,Y:y})\n",
    "            total_loss += l\n",
    "       # print(\"Epoch {0}: loss {1}\".format(i, total_loss/n_samples))\n",
    "    # Step 9: output the values of w,u and b\n",
    "    w ,u, b = sess.run([w,u,b])\n",
    "writer.close()\n",
    "# plot the results\n",
    "X, Y = data.T[0], data.T[1]\n",
    "plt.plot(X, Y, 'bo', label='Real data')\n",
    "plt.plot(X, X * X * w + X * u + b, 'ro', label='Predicted data')\n",
    "plt.legend()\n",
    "plt.show()"
   ]
  },
  {
   "cell_type": "markdown",
   "metadata": {},
   "source": [
    "###### How do we know that our model is correct"
   ]
  },
  {
   "cell_type": "markdown",
   "metadata": {},
   "source": [
    "Use R-squared. is a statistical measure of how close the data are to the fitted regression . Formula\n",
    "<br> \n",
    "R-squared = Explained variation /Total variation \n",
    "<br>\n",
    "We have trained on all data , so this mean we have no more data for cross validation or testing , let's create dummy data"
   ]
  },
  {
   "cell_type": "code",
   "execution_count": 33,
   "metadata": {},
   "outputs": [],
   "source": [
    "X_dummy = np.linspace(-1,1,100)\n",
    "Y_dummy = X_dummy * 3 + np.random.randn(X_dummy.shape[0]) * 0.5"
   ]
  },
  {
   "cell_type": "code",
   "execution_count": 35,
   "metadata": {},
   "outputs": [
    {
     "data": {
      "image/png": "[encoded data removed]",
      "text/plain": [
       "<matplotlib.figure.Figure at 0x11c19eb90>"
      ]
     },
     "metadata": {},
     "output_type": "display_data"
    }
   ],
   "source": [
    "# plot the results on dummy\n",
    "\n",
    "plt.plot(X_dummy, Y_dummy, 'bo', label='Dummy data')\n",
    "plt.plot(X_dummy, X_dummy * X_dummy * w + X_dummy * u + b, 'r', label='Predicted data')\n",
    "plt.legend()\n",
    "plt.show()"
   ]
  },
  {
   "cell_type": "markdown",
   "metadata": {},
   "source": [
    "##### Analyze the code"
   ]
  },
  {
   "cell_type": "markdown",
   "metadata": {},
   "source": [
    "By default, the optmizizer trains all the trainable variables whose objective function depend on. If there is a variable u don't want to train. use keyword \"trainable\" to False \n",
    "<br>\n",
    "<b> List of Optmizer </b>\n",
    "<ul> \n",
    "    <li> tf.train.GradientDescentOptimizer </li>\n",
    "        <li>\n",
    "tf.train.AdadeltaOptimizer\n",
    "tf.train.AdagradOptimizer\n",
    "tf.train.AdagradDAOptimizer\n",
    "tf.train.MomentumOptimizer\n",
    "tf.train.AdamOptimizer\n",
    "tf.train.FtrlOptimizer\n",
    "tf.train.ProximalGradientDescentOptimizer\n",
    "tf.train.ProximalAdagradOptimizer\n",
    "        tf.train.RMSPropOptimizer</li>\n",
    "    </ul>"
   ]
  },
  {
   "cell_type": "code",
   "execution_count": null,
   "metadata": {},
   "outputs": [],
   "source": []
  }
 ],
 "metadata": {
  "kernelspec": {
   "display_name": "Python 2",
   "language": "python",
   "name": "python2"
  },
  "language_info": {
   "codemirror_mode": {
    "name": "ipython",
    "version": 2
   },
   "file_extension": ".py",
   "mimetype": "text/x-python",
   "name": "python",
   "nbconvert_exporter": "python",
   "pygments_lexer": "ipython2",
   "version": "2.7.12"
  }
 },
 "nbformat": 4,
 "nbformat_minor": 2
}
